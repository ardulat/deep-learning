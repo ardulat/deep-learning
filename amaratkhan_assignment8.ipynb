{
 "cells": [
  {
   "cell_type": "code",
   "execution_count": 61,
   "metadata": {},
   "outputs": [
    {
     "name": "stdout",
     "output_type": "stream",
     "text": [
      "['data/names/Czech.txt', 'data/names/German.txt', 'data/names/Arabic.txt', 'data/names/Japanese.txt', 'data/names/Chinese.txt', 'data/names/Vietnamese.txt', 'data/names/Kazakh.txt', 'data/names/Russian.txt', 'data/names/French.txt', 'data/names/Irish.txt', 'data/names/English.txt', 'data/names/Spanish.txt', 'data/names/Greek.txt', 'data/names/Italian.txt', 'data/names/Portuguese.txt', 'data/names/Scottish.txt', 'data/names/Dutch.txt', 'data/names/Korean.txt', 'data/names/Polish.txt']\n",
      "Slusarski\n"
     ]
    }
   ],
   "source": [
    "from __future__ import unicode_literals, print_function, division\n",
    "from io import open\n",
    "import glob\n",
    "import os\n",
    "\n",
    "def findFiles(path): return glob.glob(path)\n",
    "\n",
    "print(findFiles('data/names/*.txt'))\n",
    "\n",
    "import unicodedata\n",
    "import string\n",
    "\n",
    "all_letters = string.ascii_letters + \" .,;'\"\n",
    "n_letters = len(all_letters)\n",
    "\n",
    "# Turn a Unicode string to plain ASCII, thanks to http://stackoverflow.com/a/518232/2809427\n",
    "def unicodeToAscii(s):\n",
    "    return ''.join(\n",
    "        c for c in unicodedata.normalize('NFD', s)\n",
    "        if unicodedata.category(c) != 'Mn'\n",
    "        and c in all_letters\n",
    "    )\n",
    "\n",
    "print(unicodeToAscii('Ślusàrski'))\n",
    "\n",
    "# Build the category_lines dictionary, a list of names per language\n",
    "category_lines = {}\n",
    "all_categories = []\n",
    "\n",
    "# Read a file and split into lines\n",
    "def readLines(filename):\n",
    "    lines = open(filename, encoding='utf-8').read().strip().split('\\n')\n",
    "    return [unicodeToAscii(line) for line in lines]\n",
    "\n",
    "for filename in findFiles('data/names/*.txt'):\n",
    "    category = os.path.splitext(os.path.basename(filename))[0]\n",
    "    all_categories.append(category)\n",
    "    lines = readLines(filename)\n",
    "    category_lines[category] = lines\n",
    "\n",
    "n_categories = len(all_categories)"
   ]
  },
  {
   "cell_type": "code",
   "execution_count": 62,
   "metadata": {},
   "outputs": [
    {
     "name": "stdout",
     "output_type": "stream",
     "text": [
      "['Abandonato', 'Abatangelo', 'Abatantuono', 'Abate', 'Abategiovanni']\n"
     ]
    }
   ],
   "source": [
    "print(category_lines['Italian'][:5])"
   ]
  },
  {
   "cell_type": "code",
   "execution_count": 63,
   "metadata": {},
   "outputs": [
    {
     "name": "stdout",
     "output_type": "stream",
     "text": [
      "tensor([[0., 0., 0., 0., 0., 0., 0., 0., 0., 0., 0., 0., 0., 0., 0., 0., 0., 0.,\n",
      "         0., 0., 0., 0., 0., 0., 0., 0., 0., 0., 0., 0., 0., 0., 0., 0., 0., 1.,\n",
      "         0., 0., 0., 0., 0., 0., 0., 0., 0., 0., 0., 0., 0., 0., 0., 0., 0., 0.,\n",
      "         0., 0., 0.]])\n",
      "torch.Size([5, 1, 57])\n"
     ]
    }
   ],
   "source": [
    "import torch\n",
    "\n",
    "# Find letter index from all_letters, e.g. \"a\" = 0\n",
    "def letterToIndex(letter):\n",
    "    return all_letters.find(letter)\n",
    "\n",
    "# Just for demonstration, turn a letter into a <1 x n_letters> Tensor\n",
    "def letterToTensor(letter):\n",
    "    tensor = torch.zeros(1, n_letters)\n",
    "    tensor[0][letterToIndex(letter)] = 1\n",
    "    return tensor\n",
    "\n",
    "# Turn a line into a <line_length x 1 x n_letters>,\n",
    "# or an array of one-hot letter vectors\n",
    "def lineToTensor(line):\n",
    "    tensor = torch.zeros(len(line), 1, n_letters)\n",
    "    for li, letter in enumerate(line):\n",
    "        tensor[li][0][letterToIndex(letter)] = 1\n",
    "    return tensor\n",
    "\n",
    "print(letterToTensor('J'))\n",
    "\n",
    "print(lineToTensor('Jones').size())"
   ]
  },
  {
   "cell_type": "code",
   "execution_count": 64,
   "metadata": {
    "collapsed": true
   },
   "outputs": [],
   "source": [
    "import torch.nn as nn\n",
    "\n",
    "class RNN(nn.Module):\n",
    "    def __init__(self, input_size, hidden_size, output_size):\n",
    "        super(RNN, self).__init__()\n",
    "\n",
    "        self.hidden_size = hidden_size\n",
    "\n",
    "        self.i2h = nn.Linear(input_size + hidden_size, hidden_size)\n",
    "        self.i2o = nn.Linear(input_size + hidden_size, output_size)\n",
    "        self.softmax = nn.LogSoftmax(dim=1)\n",
    "\n",
    "    def forward(self, input, hidden):\n",
    "        combined = torch.cat((input, hidden), 1)\n",
    "        hidden = self.i2h(combined)\n",
    "        output = self.i2o(combined)\n",
    "        output = self.softmax(output)\n",
    "        return output, hidden\n",
    "\n",
    "    def initHidden(self):\n",
    "        return torch.zeros(1, self.hidden_size)\n",
    "\n",
    "n_hidden = 128\n",
    "rnn = RNN(n_letters, n_hidden, n_categories)"
   ]
  },
  {
   "cell_type": "code",
   "execution_count": 65,
   "metadata": {
    "collapsed": true
   },
   "outputs": [],
   "source": [
    "input = letterToTensor('A')\n",
    "hidden = torch.zeros(1, n_hidden)\n",
    "\n",
    "output, next_hidden = rnn(input, hidden)"
   ]
  },
  {
   "cell_type": "code",
   "execution_count": 66,
   "metadata": {},
   "outputs": [
    {
     "name": "stdout",
     "output_type": "stream",
     "text": [
      "tensor([[-3.0366, -2.9539, -2.9825, -3.0369, -2.8611, -2.9972, -2.9383, -3.0426,\n",
      "         -2.9552, -2.9697, -2.7981, -2.9001, -2.9528, -2.8122, -2.9608, -3.0096,\n",
      "         -2.9297, -2.8453, -3.0118]], grad_fn=<LogSoftmaxBackward>)\n"
     ]
    }
   ],
   "source": [
    "input = lineToTensor('Albert')\n",
    "hidden = torch.zeros(1, n_hidden)\n",
    "\n",
    "output, next_hidden = rnn(input[0], hidden)\n",
    "print(output)"
   ]
  },
  {
   "cell_type": "code",
   "execution_count": 67,
   "metadata": {},
   "outputs": [
    {
     "name": "stdout",
     "output_type": "stream",
     "text": [
      "('English', 10)\n"
     ]
    }
   ],
   "source": [
    "def categoryFromOutput(output):\n",
    "    top_n, top_i = output.topk(1)\n",
    "    category_i = top_i[0].item()\n",
    "    return all_categories[category_i], category_i\n",
    "\n",
    "print(categoryFromOutput(output))"
   ]
  },
  {
   "cell_type": "code",
   "execution_count": 68,
   "metadata": {},
   "outputs": [
    {
     "name": "stdout",
     "output_type": "stream",
     "text": [
      "category = Dutch / line = Houttum\n",
      "category = Kazakh / line = Ibragimov\n",
      "category = Portuguese / line = Serafim\n",
      "category = French / line = Martel\n",
      "category = Dutch / line = Leeuwenhoek\n",
      "category = Irish / line = Ruaidh\n",
      "category = Vietnamese / line = Pham\n",
      "category = Spanish / line = Ojeda\n",
      "category = French / line = Baudin\n",
      "category = Arabic / line = Sabbagh\n"
     ]
    }
   ],
   "source": [
    "import random\n",
    "\n",
    "def randomChoice(l):\n",
    "    return l[random.randint(0, len(l) - 1)]\n",
    "\n",
    "def randomTrainingExample():\n",
    "    category = randomChoice(all_categories)\n",
    "    line = randomChoice(category_lines[category])\n",
    "    category_tensor = torch.tensor([all_categories.index(category)], dtype=torch.long)\n",
    "    line_tensor = lineToTensor(line)\n",
    "    return category, line, category_tensor, line_tensor\n",
    "\n",
    "for i in range(10):\n",
    "    category, line, category_tensor, line_tensor = randomTrainingExample()\n",
    "    print('category =', category, '/ line =', line)"
   ]
  },
  {
   "cell_type": "code",
   "execution_count": 69,
   "metadata": {
    "collapsed": true
   },
   "outputs": [],
   "source": [
    "criterion = nn.NLLLoss()"
   ]
  },
  {
   "cell_type": "code",
   "execution_count": 70,
   "metadata": {
    "collapsed": true
   },
   "outputs": [],
   "source": [
    "learning_rate = 0.005 # If you set this too high, it might explode. If too low, it might not learn\n",
    "\n",
    "def train(category_tensor, line_tensor):\n",
    "    hidden = rnn.initHidden()\n",
    "\n",
    "    rnn.zero_grad()\n",
    "\n",
    "    for i in range(line_tensor.size()[0]):\n",
    "        output, hidden = rnn(line_tensor[i], hidden)\n",
    "\n",
    "    loss = criterion(output, category_tensor)\n",
    "    loss.backward()\n",
    "\n",
    "    # Add parameters' gradients to their values, multiplied by learning rate\n",
    "    for p in rnn.parameters():\n",
    "        p.data.add_(-learning_rate, p.grad.data)\n",
    "\n",
    "    return output, loss.item()"
   ]
  },
  {
   "cell_type": "code",
   "execution_count": 71,
   "metadata": {},
   "outputs": [
    {
     "name": "stdout",
     "output_type": "stream",
     "text": [
      "1000 1% (0m 1s) 2.8463 Callaghan / French ✗ (Irish)\n",
      "2000 2% (0m 3s) 2.8311 Ronchi / Greek ✗ (Italian)\n",
      "3000 3% (0m 5s) 2.9864 Hyun  / Japanese ✗ (Korean)\n",
      "4000 4% (0m 6s) 2.9149 Daly / English ✗ (Irish)\n",
      "5000 5% (0m 8s) 3.0849 Travert / Italian ✗ (French)\n",
      "6000 6% (0m 10s) 2.3847 Keegan / Scottish ✗ (English)\n",
      "7000 7% (0m 12s) 2.5589 Simon / Korean ✗ (Irish)\n",
      "8000 8% (0m 14s) 2.5131 Agli / Korean ✗ (Italian)\n",
      "9000 9% (0m 15s) 1.0181 Nurpeisova / Kazakh ✓\n",
      "10000 10% (0m 17s) 2.3067 Sokolof / Russian ✗ (Polish)\n",
      "11000 11% (0m 19s) 2.2027 Seow / Korean ✗ (Chinese)\n",
      "12000 12% (0m 21s) 0.9909 Chung / Vietnamese ✓\n",
      "13000 13% (0m 22s) 2.0267 Bueren / Dutch ✓\n",
      "14000 14% (0m 24s) 2.4340 Schuster / Arabic ✗ (German)\n",
      "15000 15% (0m 26s) 0.7932 Kotsilimbas / Greek ✓\n",
      "16000 16% (0m 28s) 3.0575 Bazen / Dutch ✗ (Russian)\n",
      "17000 17% (0m 29s) 1.0281 Ruslanov / Russian ✓\n",
      "18000 18% (0m 31s) 1.1195 Meng / Chinese ✓\n",
      "19000 19% (0m 33s) 2.2553 Jamieson / Russian ✗ (Scottish)\n",
      "20000 20% (0m 34s) 0.1173 Kusuhara / Japanese ✓\n",
      "21000 21% (0m 36s) 1.6716 Dalach / Irish ✓\n",
      "22000 22% (0m 38s) 2.2174 Gosse / Arabic ✗ (French)\n",
      "23000 23% (0m 39s) 3.9121 Beyersdorf / French ✗ (German)\n",
      "24000 24% (0m 41s) 3.6892 Nguyen / Arabic ✗ (Vietnamese)\n",
      "25000 25% (0m 43s) 2.3818 Dehmel / German ✗ (Czech)\n",
      "26000 26% (0m 44s) 0.3915 Kreskas / Greek ✓\n",
      "27000 27% (0m 46s) 0.6253 Mukhanova / Kazakh ✓\n",
      "28000 28% (0m 48s) 0.8722 Rang / Chinese ✓\n",
      "29000 28% (0m 50s) 1.8912 Medeiros / Greek ✗ (Portuguese)\n",
      "30000 30% (0m 51s) 1.8176 Shiraev / Russian ✓\n",
      "31000 31% (0m 53s) 1.2802 Ferreira / Portuguese ✓\n",
      "32000 32% (0m 55s) 0.9461 Lawniczak / Polish ✓\n",
      "33000 33% (0m 56s) 0.5055 Ferreiro / Portuguese ✓\n",
      "34000 34% (0m 58s) 1.2917 Valencia / Spanish ✓\n",
      "35000 35% (1m 0s) 0.8411 Ping / Chinese ✓\n",
      "36000 36% (1m 2s) 0.9477 Akkeren / Dutch ✓\n",
      "37000 37% (1m 3s) 0.1100 Goretti / Italian ✓\n",
      "38000 38% (1m 5s) 1.1547 Doan / Vietnamese ✓\n",
      "39000 39% (1m 7s) 1.4187 Lieu / Vietnamese ✓\n",
      "40000 40% (1m 8s) 1.9117 Kitao / Japanese ✓\n",
      "41000 41% (1m 10s) 1.1601 Doan / Vietnamese ✓\n",
      "42000 42% (1m 12s) 0.5130 Chu / Vietnamese ✓\n",
      "43000 43% (1m 14s) 1.8929 Richard / Scottish ✗ (French)\n",
      "44000 44% (1m 15s) 2.0357 Laurenz / Spanish ✗ (German)\n",
      "45000 45% (1m 17s) 0.9731 Puerta / Spanish ✓\n",
      "46000 46% (1m 19s) 3.2840 Purdes / Spanish ✗ (Czech)\n",
      "47000 47% (1m 20s) 1.5512 Jemukhov / Kazakh ✗ (Russian)\n",
      "48000 48% (1m 22s) 0.3267 Dinh / Vietnamese ✓\n",
      "49000 49% (1m 24s) 1.0572 Mifsud / Arabic ✓\n",
      "50000 50% (1m 25s) 0.3625 Lindsay / Scottish ✓\n",
      "51000 51% (1m 27s) 3.1504 Werner / German ✗ (English)\n",
      "52000 52% (1m 29s) 0.6730 Iesada / Japanese ✓\n",
      "53000 53% (1m 31s) 0.3720 Roggeveen / Dutch ✓\n",
      "54000 54% (1m 33s) 0.8609 Abbracciabeni / Scottish ✗ (Italian)\n",
      "55000 55% (1m 34s) 1.8999 Lane / French ✓\n",
      "56000 56% (1m 36s) 2.0662 Zhaksylyk / Polish ✗ (Kazakh)\n",
      "57000 56% (1m 38s) 1.3189 Murphy / Scottish ✓\n",
      "58000 57% (1m 40s) 1.8407 Kerr / German ✗ (Scottish)\n",
      "59000 59% (1m 41s) 0.6436 Bukoski / Polish ✓\n",
      "60000 60% (1m 43s) 0.4261 Kolovos / Greek ✓\n",
      "61000 61% (1m 45s) 4.5242 Villalobos / Greek ✗ (Spanish)\n",
      "62000 62% (1m 46s) 1.8815 Bahr / Vietnamese ✗ (German)\n",
      "63000 63% (1m 48s) 0.7803 Araullo / Portuguese ✓\n",
      "64000 64% (1m 50s) 1.0391 Gribashev / Kazakh ✗ (Russian)\n",
      "65000 65% (1m 52s) 3.5068 Salazar / Kazakh ✗ (Portuguese)\n",
      "66000 66% (1m 53s) 0.5130 Herrera / Spanish ✓\n",
      "67000 67% (1m 55s) 1.8627 Chung / Chinese ✗ (Korean)\n",
      "68000 68% (1m 57s) 0.1020 Okimoto / Japanese ✓\n",
      "69000 69% (1m 58s) 0.0826 Tokaji / Japanese ✓\n",
      "70000 70% (2m 0s) 1.0292 Fernandez / Spanish ✓\n",
      "71000 71% (2m 2s) 2.8586 Duarte / French ✗ (Portuguese)\n",
      "72000 72% (2m 3s) 0.3796 Crespo / Portuguese ✓\n",
      "73000 73% (2m 5s) 3.6465 De rege / French ✗ (Italian)\n",
      "74000 74% (2m 7s) 2.5983 Sankovsky / Russian ✗ (Czech)\n",
      "75000 75% (2m 9s) 1.0694 Mulryan / Irish ✓\n",
      "76000 76% (2m 10s) 1.3788 Glaisyer / French ✓\n",
      "77000 77% (2m 12s) 1.3446 Forest / French ✓\n",
      "78000 78% (2m 14s) 0.2564 Slaski / Polish ✓\n",
      "79000 79% (2m 15s) 2.2516 Hawkins / Dutch ✗ (English)\n",
      "80000 80% (2m 17s) 0.3597 Beringer / French ✓\n",
      "81000 81% (2m 19s) 0.3960 Amenova / Kazakh ✓\n",
      "82000 82% (2m 21s) 0.5642 Dertilis / Greek ✓\n",
      "83000 83% (2m 22s) 0.0036 Malinowski / Polish ✓\n",
      "84000 84% (2m 24s) 1.9094 Aonghuis / Greek ✗ (Irish)\n",
      "85000 85% (2m 26s) 1.4028 Linden / Dutch ✗ (English)\n",
      "86000 86% (2m 27s) 0.4515 Asghar / Arabic ✓\n",
      "87000 87% (2m 29s) 0.6233 Do / Vietnamese ✓\n",
      "88000 88% (2m 31s) 1.2968 Basara / Japanese ✗ (Arabic)\n",
      "89000 89% (2m 32s) 1.1279 Lohrenz / German ✓\n",
      "90000 90% (2m 34s) 0.9904 Jirik / Czech ✓\n",
      "91000 91% (2m 36s) 0.8284 Morrison / Scottish ✓\n",
      "92000 92% (2m 38s) 0.2447 Yamagata / Japanese ✓\n",
      "93000 93% (2m 39s) 0.7384 Chu / Vietnamese ✓\n",
      "94000 94% (2m 41s) 0.9034 Tolbert / French ✓\n",
      "95000 95% (2m 43s) 0.2491 Rutten / Dutch ✓\n",
      "96000 96% (2m 44s) 0.0947 Kalenova / Kazakh ✓\n",
      "97000 97% (2m 46s) 0.0487 Kanaeva / Kazakh ✓\n",
      "98000 98% (2m 48s) 1.8725 Rinn / Chinese ✗ (Irish)\n",
      "99000 99% (2m 50s) 0.1016 Fujishima / Japanese ✓\n",
      "100000 100% (2m 51s) 3.5497 Silva / Kazakh ✗ (Portuguese)\n"
     ]
    }
   ],
   "source": [
    "import time\n",
    "import math\n",
    "\n",
    "n_iters = 100000\n",
    "print_every = 1000\n",
    "plot_every = 1000\n",
    "\n",
    "\n",
    "\n",
    "# Keep track of losses for plotting\n",
    "current_loss = 0\n",
    "all_losses = []\n",
    "\n",
    "def timeSince(since):\n",
    "    now = time.time()\n",
    "    s = now - since\n",
    "    m = math.floor(s / 60)\n",
    "    s -= m * 60\n",
    "    return '%dm %ds' % (m, s)\n",
    "\n",
    "start = time.time()\n",
    "\n",
    "for iter in range(1, n_iters + 1):\n",
    "    category, line, category_tensor, line_tensor = randomTrainingExample()\n",
    "    output, loss = train(category_tensor, line_tensor)\n",
    "    current_loss += loss\n",
    "\n",
    "    # Print iter number, loss, name and guess\n",
    "    if iter % print_every == 0:\n",
    "        guess, guess_i = categoryFromOutput(output)\n",
    "        correct = '✓' if guess == category else '✗ (%s)' % category\n",
    "        print('%d %d%% (%s) %.4f %s / %s %s' % (iter, iter / n_iters * 100, timeSince(start), loss, line, guess, correct))\n",
    "\n",
    "    # Add current loss avg to list of losses\n",
    "    if iter % plot_every == 0:\n",
    "        all_losses.append(current_loss / plot_every)\n",
    "        current_loss = 0"
   ]
  },
  {
   "cell_type": "code",
   "execution_count": 72,
   "metadata": {},
   "outputs": [
    {
     "name": "stdout",
     "output_type": "stream",
     "text": [
      "100\n"
     ]
    }
   ],
   "source": [
    "print(len(all_losses))"
   ]
  },
  {
   "cell_type": "code",
   "execution_count": 73,
   "metadata": {},
   "outputs": [
    {
     "data": {
      "image/png": "[encoded data removed]",
      "text/plain": [
       "<matplotlib.figure.Figure at 0x111d2c080>"
      ]
     },
     "metadata": {},
     "output_type": "display_data"
    }
   ],
   "source": [
    "import matplotlib.pyplot as plt\n",
    "import matplotlib.ticker as ticker\n",
    "\n",
    "plt.figure()\n",
    "plt.plot(all_losses)\n",
    "plt.show()"
   ]
  },
  {
   "cell_type": "code",
   "execution_count": 74,
   "metadata": {},
   "outputs": [
    {
     "data": {
      "image/png": "[encoded data removed]",
      "text/plain": [
       "<matplotlib.figure.Figure at 0x111da9da0>"
      ]
     },
     "metadata": {},
     "output_type": "display_data"
    }
   ],
   "source": [
    "# Keep track of correct guesses in a confusion matrix\n",
    "confusion = torch.zeros(n_categories, n_categories)\n",
    "n_confusion = 10000\n",
    "\n",
    "# Just return an output given a line\n",
    "def evaluate(line_tensor):\n",
    "    hidden = rnn.initHidden()\n",
    "\n",
    "    for i in range(line_tensor.size()[0]):\n",
    "        output, hidden = rnn(line_tensor[i], hidden)\n",
    "\n",
    "    return output\n",
    "\n",
    "# Go through a bunch of examples and record which are correctly guessed\n",
    "for i in range(n_confusion):\n",
    "    category, line, category_tensor, line_tensor = randomTrainingExample()\n",
    "    output = evaluate(line_tensor)\n",
    "    guess, guess_i = categoryFromOutput(output)\n",
    "    category_i = all_categories.index(category)\n",
    "    confusion[category_i][guess_i] += 1\n",
    "\n",
    "# Normalize by dividing every row by its sum\n",
    "for i in range(n_categories):\n",
    "    confusion[i] = confusion[i] / confusion[i].sum()\n",
    "\n",
    "# Set up plot\n",
    "fig = plt.figure(figsize=(10,10))\n",
    "ax = fig.add_subplot(111)\n",
    "cax = ax.matshow(confusion.numpy())\n",
    "fig.colorbar(cax)\n",
    "\n",
    "# Set up axes\n",
    "ax.set_xticklabels([''] + all_categories, rotation=90)\n",
    "ax.set_yticklabels([''] + all_categories)\n",
    "\n",
    "# Force label at every tick\n",
    "ax.xaxis.set_major_locator(ticker.MultipleLocator(1))\n",
    "ax.yaxis.set_major_locator(ticker.MultipleLocator(1))\n",
    "\n",
    "# sphinx_gallery_thumbnail_number = 2\n",
    "plt.show()"
   ]
  },
  {
   "cell_type": "code",
   "execution_count": 76,
   "metadata": {},
   "outputs": [
    {
     "name": "stdout",
     "output_type": "stream",
     "text": [
      "\n",
      "> Dovesky\n",
      "(-0.59) Russian\n",
      "(-1.31) Czech\n",
      "(-2.93) Irish\n",
      "\n",
      "> Jackson\n",
      "(-0.18) Scottish\n",
      "(-2.53) English\n",
      "(-4.20) Greek\n",
      "\n",
      "> Satoshi\n",
      "(-1.24) Portuguese\n",
      "(-1.38) Italian\n",
      "(-2.23) Polish\n",
      "\n",
      "> Ualikhanov\n",
      "(-0.24) Russian\n",
      "(-1.84) Kazakh\n",
      "(-3.99) Greek\n",
      "\n",
      "> Maratkhan\n",
      "(-0.93) Kazakh\n",
      "(-1.58) Irish\n",
      "(-1.98) Russian\n",
      "\n",
      "> Ermekova\n",
      "(-0.16) Kazakh\n",
      "(-2.15) Czech\n",
      "(-5.08) Spanish\n"
     ]
    }
   ],
   "source": [
    "def predict(input_line, n_predictions=3):\n",
    "    print('\\n> %s' % input_line)\n",
    "    with torch.no_grad():\n",
    "        output = evaluate(lineToTensor(input_line))\n",
    "\n",
    "        # Get top N categories\n",
    "        topv, topi = output.topk(n_predictions, 1, True)\n",
    "        predictions = []\n",
    "\n",
    "        for i in range(n_predictions):\n",
    "            value = topv[0][i].item()\n",
    "            category_index = topi[0][i].item()\n",
    "            print('(%.2f) %s' % (value, all_categories[category_index]))\n",
    "            predictions.append([value, all_categories[category_index]])\n",
    "\n",
    "predict('Dovesky')\n",
    "predict('Jackson')\n",
    "predict('Satoshi')\n",
    "predict('Ualikhanov')\n",
    "predict('Maratkhan')\n",
    "predict('Ermekova')"
   ]
  },
  {
   "cell_type": "markdown",
   "metadata": {},
   "source": [
    "---\n",
    "### Notes"
   ]
  },
  {
   "cell_type": "markdown",
   "metadata": {},
   "source": [
    "So, what we have done basically is: first, convert extracted words from the dataset to matrix representations using one-hot encoding. Construct vanilla RNN just by initializing hidden layer as zero for the first iteration, and then passing result of each previous hidden layer to the next input (along with the current input layer). Further, we get output from the current hidden layer, and based on our output we improve our prediction using `NLLLoss`. However, we do not use any optimizers, we just pass the resultant loss at each output to the backpropagation method.\n",
    "\n",
    "The way we classify lastname is as follows: after converting our word to tensor, we pass it to the network, and at the end we get a vector of size equal to number of classes where each number represent a probability (after softmax), and we just take the maximum probability and classify the lastname according to that.\n",
    "\n",
    "One thing to mention here is that I didn't see any mention about timesteps we are using in this architecture, that shows how far we can see the context. But I guess we just pass the previous last layer only, so the timesteps is 1."
   ]
  },
  {
   "cell_type": "markdown",
   "metadata": {},
   "source": [
    "From the observations we see that our model improves, and the plot of decreasing loss is presented above. Also, from the confusion matrix we see how well the model does on each of the classes. We are only interested in the values that are on the diagonal, because those are correct predictions. English, German, Czech are classified mostly wrong, and Portuguese, Arabic, Vietnamese have best prediction accuracies.\n",
    "\n",
    "After I increased the dataset with surnames, the prediction has improved. Before changing the dataset the prediction accuracy according to confusion matrix was around 0.4-0.5, and now it has improved to 0.6-0.7. However, because most kazakh lastnames are ending with 'ov' (for male) or 'ova' (for female), kazakh names are misclassified with russian, and russian lastnames are misclassified with kazakh. And it also was observed that russian classification has worsened after adding kazakh dataset.\n",
    "\n",
    "P.S. Before changing the dataset my lastname was classified as Russian (even if there is no 'ov' in the end), but after changing it, Maratkhan is classified correctly :)"
   ]
  },
  {
   "cell_type": "markdown",
   "metadata": {},
   "source": [
    "It should also be noted that there exists some noise in the kazakh lastnames dataset. Following are examples:\n",
    "* Shefer\n",
    "* Shults\n",
    "* Bely\n",
    "* Bozhko\n",
    "* Kedryuk"
   ]
  },
  {
   "cell_type": "markdown",
   "metadata": {},
   "source": [
    "The dataset has been collected from following websites:\n",
    "* http://surnames.nameslist.org/Kazakh/2\n",
    "* https://en.wikipedia.org/wiki/Category:Kazakh-language_surnames\n",
    "* https://www.inform.kz/eng/article/2687422\n",
    "* https://surnames.behindthename.com/submit/names/usage/kazakh\n",
    "* Some were taken from kazakh intellectuals of Alash time (1916 yr.)"
   ]
  },
  {
   "cell_type": "code",
   "execution_count": null,
   "metadata": {
    "collapsed": true
   },
   "outputs": [],
   "source": []
  }
 ],
 "metadata": {
  "kernelspec": {
   "display_name": "Python 3",
   "language": "python",
   "name": "python3"
  },
  "language_info": {
   "codemirror_mode": {
    "name": "ipython",
    "version": 3
   },
   "file_extension": ".py",
   "mimetype": "text/x-python",
   "name": "python",
   "nbconvert_exporter": "python",
   "pygments_lexer": "ipython3",
   "version": "3.6.3"
  }
 },
 "nbformat": 4,
 "nbformat_minor": 2
}
