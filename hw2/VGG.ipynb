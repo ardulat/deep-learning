{
 "cells": [
  {
   "cell_type": "code",
   "execution_count": 1,
   "metadata": {},
   "outputs": [],
   "source": [
    "# % pylab inline\n",
    "from pylab import *"
   ]
  },
  {
   "cell_type": "code",
   "execution_count": 2,
   "metadata": {},
   "outputs": [],
   "source": [
    "# imports\n",
    "import os\n",
    "import cv2\n",
    "import torch\n",
    "import torchvision\n",
    "import torchvision.transforms as transforms\n",
    "import torch.nn as nn\n",
    "import torch.nn.functional as F\n",
    "import torch.optim as optim"
   ]
  },
  {
   "cell_type": "code",
   "execution_count": 3,
   "metadata": {},
   "outputs": [],
   "source": [
    "def read_images(dir_path):\n",
    "    \n",
    "    X = []\n",
    "    y = []\n",
    "    \n",
    "    # define a label map\n",
    "    labelmap = {\n",
    "                'airplane': 0,\n",
    "                'bird': 1,\n",
    "                'dog': 2,\n",
    "                'frog': 3,\n",
    "                'horse': 4,\n",
    "                'apple': 5,\n",
    "                'grape': 6,\n",
    "                'kiwi': 7,\n",
    "                'lemon': 8,\n",
    "                'strawberry': 9\n",
    "               }\n",
    "    \n",
    "    directory_list = os.listdir(dir_path)\n",
    "    # remove OS X's .DS_Store file\n",
    "    if '.DS_Store' in directory_list:\n",
    "        directory_list.remove('.DS_Store')\n",
    "    \n",
    "    for i, class_name in enumerate(directory_list):\n",
    "        for j, image_name in enumerate(os.listdir(dir_path+class_name)):\n",
    "            image_path = dir_path+class_name+'/'+image_name\n",
    "            image = cv2.imread(image_path)\n",
    "            X.append(image)\n",
    "            y.append(labelmap[class_name])\n",
    "    \n",
    "    X = np.array(X)\n",
    "    y = np.array(y)\n",
    "    \n",
    "    return X, y"
   ]
  },
  {
   "cell_type": "code",
   "execution_count": 4,
   "metadata": {},
   "outputs": [],
   "source": [
    "train_dir_path1 = 'hw2 data/data1/train/'\n",
    "train_dir_path2 = 'hw2 data/data2/train/'\n",
    "\n",
    "X1, y1 = read_images(train_dir_path1)\n",
    "X2, y2 = read_images(train_dir_path2)"
   ]
  },
  {
   "cell_type": "code",
   "execution_count": 5,
   "metadata": {},
   "outputs": [],
   "source": [
    "def load_data(dir_path1, dir_path2):\n",
    "    \n",
    "    X1, y1 = read_images(dir_path1)\n",
    "    X2, y2 = read_images(dir_path2)\n",
    "    \n",
    "    X2_resized = np.zeros((X2.shape[0], 32, 32, X2.shape[3]), dtype=np.uint8)\n",
    "    \n",
    "    for i in range(X2.shape[0]):\n",
    "        X2_resized[i,:,:,0] = cv2.resize(X2[i,:,:,0], (32,32))\n",
    "        X2_resized[i,:,:,1] = cv2.resize(X2[i,:,:,1], (32,32))\n",
    "        X2_resized[i,:,:,2] = cv2.resize(X2[i,:,:,2], (32,32))\n",
    "    \n",
    "    X = np.append(X1, X2_resized, axis=0)\n",
    "    y = np.append(y1, y2, axis=0)\n",
    "    \n",
    "    return X, y"
   ]
  },
  {
   "cell_type": "code",
   "execution_count": 6,
   "metadata": {},
   "outputs": [],
   "source": [
    "train_dir_path1 = 'hw2 data/data1/train/'\n",
    "train_dir_path2 = 'hw2 data/data2/train/'\n",
    "X_train, y_train= load_data(train_dir_path1, train_dir_path2)"
   ]
  },
  {
   "cell_type": "code",
   "execution_count": 7,
   "metadata": {},
   "outputs": [],
   "source": [
    "class CIFAR10(torch.utils.data.dataset.Dataset):\n",
    "    __Xs = None\n",
    "    __ys = None\n",
    "    \n",
    "    def __init__(self, dir_path1, dir_path2, transform=None):\n",
    "        self.transform = transform\n",
    "        self.__Xs, self.__ys = load_data(dir_path1, dir_path2)\n",
    "        \n",
    "    def __getitem__(self, index):\n",
    "        img = self.__Xs[index]\n",
    "        img = cv2.cvtColor(img, cv2.COLOR_BGR2RGB)\n",
    "        if self.transform is not None:\n",
    "            img = self.transform(img)\n",
    "            \n",
    "        # Convert image and label to torch tensors\n",
    "        img = torch.from_numpy(np.asarray(img))\n",
    "        label = torch.from_numpy(np.asarray(self.__ys[index]))\n",
    "        \n",
    "        return img, label\n",
    "    \n",
    "    def __len__(self):\n",
    "        return self.__Xs.shape[0]"
   ]
  },
  {
   "cell_type": "code",
   "execution_count": 8,
   "metadata": {},
   "outputs": [
    {
     "name": "stdout",
     "output_type": "stream",
     "text": [
      "Validation set size: 453\n"
     ]
    }
   ],
   "source": [
    "train_dir_path1 = 'hw2 data/data1/train/'\n",
    "train_dir_path2 = 'hw2 data/data2/train/'\n",
    "batch_size = 4\n",
    "\n",
    "transform = transforms.Compose(\n",
    "    [transforms.ToTensor(),\n",
    "     transforms.Normalize((0.5, 0.5, 0.5), (0.5, 0.5, 0.5))])\n",
    "\n",
    "trainset = CIFAR10(train_dir_path1, train_dir_path2, transform=transform)\n",
    "\n",
    "num_samples = len(trainset)\n",
    "indices = list(range(num_samples))\n",
    "validation_size = int(0.1 * num_samples)\n",
    "print(\"Validation set size: \" + str(validation_size))\n",
    "\n",
    "validation_idx = np.random.choice(indices, size=validation_size, replace=False)\n",
    "train_idx = list(set(indices) - set(validation_idx))\n",
    "\n",
    "train_sampler = torch.utils.data.sampler.SubsetRandomSampler(train_idx)\n",
    "validation_sampler = torch.utils.data.sampler.SubsetRandomSampler(validation_idx)\n",
    "\n",
    "train_loader = torch.utils.data.DataLoader(trainset, batch_size=batch_size, shuffle=False, num_workers=1, sampler=train_sampler)\n",
    "validation_loader = torch.utils.data.DataLoader(trainset, batch_size=batch_size, sampler=validation_sampler, num_workers=1)"
   ]
  },
  {
   "cell_type": "code",
   "execution_count": 9,
   "metadata": {},
   "outputs": [],
   "source": [
    "device = torch.device('cuda:0' if torch.cuda.is_available() else 'cpu')"
   ]
  },
  {
   "cell_type": "code",
   "execution_count": 10,
   "metadata": {},
   "outputs": [
    {
     "name": "stdout",
     "output_type": "stream",
     "text": [
      "cuda:0\n"
     ]
    }
   ],
   "source": [
    "print(device)\n",
    "torch.cuda.empty_cache()"
   ]
  },
  {
   "cell_type": "code",
   "execution_count": 11,
   "metadata": {},
   "outputs": [
    {
     "name": "stdout",
     "output_type": "stream",
     "text": [
      "Running on GPU\n"
     ]
    }
   ],
   "source": [
    "cfg = {'VGG16': [64, 64, 'M', 128, 128, 'M', 256, 256, 256, 'M', 512, 512, 512, 'M', 512, 512, 512, 'M'],}\n",
    "\n",
    "class Net(nn.Module):\n",
    "    def __init__(self, num_classes=10):\n",
    "        super(Net, self).__init__()\n",
    "        \n",
    "        self.features = self._make_layers(cfg['VGG16'])\n",
    "        \n",
    "        self.classifier = nn.Sequential(\n",
    "            nn.Linear(512, num_classes)\n",
    "        )\n",
    "\n",
    "    def forward(self, x):\n",
    "        x = self.features(x)\n",
    "        x = x.view(x.size(0), -1)\n",
    "        x = self.classifier(x)\n",
    "        return x\n",
    "    \n",
    "    def _make_layers(self, cfg):\n",
    "        layers = []\n",
    "        in_channels = 3\n",
    "        for x in cfg:\n",
    "            if x == 'M':\n",
    "                layers += [nn.MaxPool2d(kernel_size=2, stride=2)]\n",
    "            else:\n",
    "                layers += [nn.Conv2d(in_channels, x, kernel_size=3, padding=1),\n",
    "                           nn.BatchNorm2d(x),\n",
    "                           nn.ReLU(inplace=True)]\n",
    "                in_channels = x\n",
    "        layers += [nn.AvgPool2d(kernel_size=1, stride=1)]\n",
    "        return nn.Sequential(*layers)\n",
    "\n",
    "\n",
    "net = Net()\n",
    "if torch.cuda.is_available():\n",
    "    print(\"Running on GPU\")\n",
    "    net = net.cuda()\n",
    "    "
   ]
  },
  {
   "cell_type": "code",
   "execution_count": 12,
   "metadata": {},
   "outputs": [],
   "source": [
    "criterion = nn.CrossEntropyLoss()\n",
    "optimizer = optim.Adam(net.parameters(), lr=0.001)"
   ]
  },
  {
   "cell_type": "code",
   "execution_count": 13,
   "metadata": {},
   "outputs": [
    {
     "name": "stdout",
     "output_type": "stream",
     "text": [
      "epoch 1/30 \t training loss: 1892.154 \t validation_loss: 191.454\n",
      "epoch 2/30 \t training loss: 1514.452 \t validation_loss: 154.026\n",
      "epoch 3/30 \t training loss: 1203.721 \t validation_loss: 118.756\n",
      "epoch 4/30 \t training loss: 1120.363 \t validation_loss: 121.203\n",
      "epoch 5/30 \t training loss: 1013.014 \t validation_loss: 112.452\n",
      "epoch 6/30 \t training loss: 895.757 \t validation_loss: 89.318\n",
      "epoch 7/30 \t training loss: 829.792 \t validation_loss: 86.140\n",
      "epoch 8/30 \t training loss: 823.667 \t validation_loss: 86.644\n",
      "epoch 9/30 \t training loss: 803.072 \t validation_loss: 88.977\n",
      "epoch 10/30 \t training loss: 717.815 \t validation_loss: 83.161\n",
      "epoch 11/30 \t training loss: 688.108 \t validation_loss: 74.064\n",
      "epoch 12/30 \t training loss: 681.936 \t validation_loss: 74.643\n",
      "epoch 13/30 \t training loss: 631.027 \t validation_loss: 73.745\n",
      "epoch 14/30 \t training loss: 572.336 \t validation_loss: 92.584\n",
      "epoch 15/30 \t training loss: 549.284 \t validation_loss: 68.954\n",
      "epoch 16/30 \t training loss: 518.490 \t validation_loss: 63.690\n",
      "epoch 17/30 \t training loss: 469.992 \t validation_loss: 60.281\n",
      "epoch 18/30 \t training loss: 442.460 \t validation_loss: 82.473\n",
      "epoch 19/30 \t training loss: 408.215 \t validation_loss: 62.128\n",
      "epoch 20/30 \t training loss: 362.046 \t validation_loss: 68.536\n",
      "epoch 21/30 \t training loss: 316.605 \t validation_loss: 66.454\n",
      "epoch 22/30 \t training loss: 295.821 \t validation_loss: 63.685\n",
      "epoch 23/30 \t training loss: 250.991 \t validation_loss: 73.264\n",
      "epoch 24/30 \t training loss: 212.659 \t validation_loss: 63.648\n",
      "epoch 25/30 \t training loss: 188.382 \t validation_loss: 93.741\n",
      "epoch 26/30 \t training loss: 159.661 \t validation_loss: 80.924\n",
      "epoch 27/30 \t training loss: 150.178 \t validation_loss: 87.312\n",
      "epoch 28/30 \t training loss: 121.275 \t validation_loss: 81.207\n",
      "epoch 29/30 \t training loss: 116.936 \t validation_loss: 102.483\n",
      "epoch 30/30 \t training loss: 92.400 \t validation_loss: 110.428\n",
      "Finished Training\n",
      "Saved model in VGGNet.pt\n"
     ]
    },
    {
     "name": "stderr",
     "output_type": "stream",
     "text": [
      "/home/ubuntu/anaconda3/envs/tensorflow/lib/python3.6/site-packages/torch/serialization.py:241: UserWarning: Couldn't retrieve source code for container of type Net. It won't be checked for correctness upon loading.\n",
      "  \"type \" + obj.__name__ + \". It won't be checked \"\n"
     ]
    }
   ],
   "source": [
    "epochs = 30\n",
    "\n",
    "training_losses = []\n",
    "validation_losses = []\n",
    "\n",
    "for epoch in range(epochs):  # loop over the dataset multiple times\n",
    "\n",
    "    training_loss = 0.0\n",
    "    for i, data in enumerate(train_loader, 0):\n",
    "        inputs, labels = data\n",
    "        if torch.cuda.is_available():\n",
    "            inputs = inputs.cuda()\n",
    "            labels = labels.cuda()\n",
    "\n",
    "        optimizer.zero_grad()\n",
    "\n",
    "        outputs = net(inputs)\n",
    "        if torch.cuda.is_available():\n",
    "            outputs = outputs.cuda()\n",
    "        loss = criterion(outputs, labels)\n",
    "        loss.backward()\n",
    "        optimizer.step()\n",
    "\n",
    "        training_loss += loss.item()\n",
    "    training_losses.append(training_losses)\n",
    "        \n",
    "    validation_loss = 0.0\n",
    "    for i, data in enumerate(validation_loader, 0):\n",
    "        inputs, labels = data\n",
    "        if torch.cuda.is_available():\n",
    "            inputs = inputs.cuda()\n",
    "            labels = labels.cuda()\n",
    "        \n",
    "        outputs = net(inputs)\n",
    "        if torch.cuda.is_available():\n",
    "            outputs = outputs.cuda()\n",
    "        loss = criterion(outputs, labels)\n",
    "        \n",
    "        validation_loss += loss.item()\n",
    "    validation_losses.append(validation_loss)\n",
    "    \n",
    "    print('epoch %d/%d \\t training loss: %.3f \\t validation_loss: %.3f' %\n",
    "              (epoch + 1, epochs, training_loss, validation_loss))\n",
    "\n",
    "print('Finished Training')\n",
    "\n",
    "torch.save(net, 'VGGNet.pt')\n",
    "print(\"Saved model in VGGNet.pt\")"
   ]
  },
  {
   "cell_type": "code",
   "execution_count": null,
   "metadata": {},
   "outputs": [],
   "source": [
    "test_dir_path1 = 'hw2 data/data1/test/'\n",
    "test_dir_path2 = 'hw2 data/data2/test/'\n",
    "batch_size = 1\n",
    "\n",
    "testset = CIFAR10(test_dir_path1, test_dir_path2, transform=transform)\n",
    "test_loader = torch.utils.data.DataLoader(testset, batch_size=batch_size, shuffle=True, num_workers=1)"
   ]
  },
  {
   "cell_type": "code",
   "execution_count": null,
   "metadata": {},
   "outputs": [],
   "source": [
    "correct = 0\n",
    "total = 0\n",
    "\n",
    "net = torch.load('VGGNet.pt')\n",
    "\n",
    "with torch.no_grad():\n",
    "    for data in test_loader:\n",
    "        images, labels = data\n",
    "        if torch.cuda.is_available():\n",
    "            images = images.cuda()\n",
    "            labels = labels.cuda()\n",
    "        outputs = net(images)\n",
    "        _, predicted = torch.max(outputs.data, 1)\n",
    "        total += labels.size(0)\n",
    "        correct += (predicted == labels).sum().item()\n",
    "\n",
    "print('Accuracy of the network on the %d test images: %d %%' % (total,\n",
    "    100 * correct / total))"
   ]
  },
  {
   "cell_type": "code",
   "execution_count": null,
   "metadata": {},
   "outputs": [],
   "source": [
    "plt.plot(list(range(epochs)), training_losses, label='training')\n",
    "plt.plot(list(range(epochs)), validation_losses, label='validation')\n",
    "plt.legend()\n",
    "plt.show()"
   ]
  },
  {
   "cell_type": "code",
   "execution_count": null,
   "metadata": {},
   "outputs": [],
   "source": []
  }
 ],
 "metadata": {
  "kernelspec": {
   "display_name": "Python [default]",
   "language": "python",
   "name": "python3"
  },
  "language_info": {
   "codemirror_mode": {
    "name": "ipython",
    "version": 3
   },
   "file_extension": ".py",
   "mimetype": "text/x-python",
   "name": "python",
   "nbconvert_exporter": "python",
   "pygments_lexer": "ipython3",
   "version": "3.6.6"
  }
 },
 "nbformat": 4,
 "nbformat_minor": 2
}
