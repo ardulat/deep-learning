{
 "cells": [
  {
   "cell_type": "code",
   "execution_count": 1,
   "metadata": {},
   "outputs": [],
   "source": [
    "# % pylab inline\n",
    "from pylab import *"
   ]
  },
  {
   "cell_type": "code",
   "execution_count": 2,
   "metadata": {},
   "outputs": [],
   "source": [
    "# imports\n",
    "import os\n",
    "import cv2\n",
    "import torch\n",
    "import torchvision\n",
    "import torchvision.transforms as transforms\n",
    "import torch.nn as nn\n",
    "import torch.nn.functional as F\n",
    "import torch.optim as optim"
   ]
  },
  {
   "cell_type": "code",
   "execution_count": 3,
   "metadata": {},
   "outputs": [],
   "source": [
    "def read_images(dir_path):\n",
    "    \n",
    "    X = []\n",
    "    y = []\n",
    "    \n",
    "    # define a label map\n",
    "    labelmap = {\n",
    "                'airplane': 0,\n",
    "                'bird': 1,\n",
    "                'dog': 2,\n",
    "                'frog': 3,\n",
    "                'horse': 4,\n",
    "                'apple': 5,\n",
    "                'grape': 6,\n",
    "                'kiwi': 7,\n",
    "                'lemon': 8,\n",
    "                'strawberry': 9\n",
    "               }\n",
    "    \n",
    "    directory_list = os.listdir(dir_path)\n",
    "    # remove OS X's .DS_Store file\n",
    "    if '.DS_Store' in directory_list:\n",
    "        directory_list.remove('.DS_Store')\n",
    "    \n",
    "    for i, class_name in enumerate(directory_list):\n",
    "        for j, image_name in enumerate(os.listdir(dir_path+class_name)):\n",
    "            image_path = dir_path+class_name+'/'+image_name\n",
    "            image = cv2.imread(image_path)\n",
    "            X.append(image)\n",
    "            y.append(labelmap[class_name])\n",
    "    \n",
    "    X = np.array(X)\n",
    "    y = np.array(y)\n",
    "    \n",
    "    return X, y"
   ]
  },
  {
   "cell_type": "code",
   "execution_count": 4,
   "metadata": {},
   "outputs": [],
   "source": [
    "train_dir_path1 = 'hw2 data/data1/train/'\n",
    "train_dir_path2 = 'hw2 data/data2/train/'\n",
    "\n",
    "X1, y1 = read_images(train_dir_path1)\n",
    "X2, y2 = read_images(train_dir_path2)"
   ]
  },
  {
   "cell_type": "code",
   "execution_count": 5,
   "metadata": {},
   "outputs": [],
   "source": [
    "def load_data(dir_path1, dir_path2):\n",
    "    \n",
    "    X1, y1 = read_images(dir_path1)\n",
    "    X2, y2 = read_images(dir_path2)\n",
    "    \n",
    "    X2_resized = np.zeros((X2.shape[0], 32, 32, X2.shape[3]), dtype=np.uint8)\n",
    "    \n",
    "    for i in range(X2.shape[0]):\n",
    "        X2_resized[i,:,:,0] = cv2.resize(X2[i,:,:,0], (32,32))\n",
    "        X2_resized[i,:,:,1] = cv2.resize(X2[i,:,:,1], (32,32))\n",
    "        X2_resized[i,:,:,2] = cv2.resize(X2[i,:,:,2], (32,32))\n",
    "    \n",
    "    X = np.append(X1, X2_resized, axis=0)\n",
    "    y = np.append(y1, y2, axis=0)\n",
    "    \n",
    "    return X, y"
   ]
  },
  {
   "cell_type": "code",
   "execution_count": 6,
   "metadata": {},
   "outputs": [],
   "source": [
    "train_dir_path1 = 'hw2 data/data1/train/'\n",
    "train_dir_path2 = 'hw2 data/data2/train/'\n",
    "X_train, y_train= load_data(train_dir_path1, train_dir_path2)"
   ]
  },
  {
   "cell_type": "code",
   "execution_count": 7,
   "metadata": {},
   "outputs": [],
   "source": [
    "class CIFAR10(torch.utils.data.dataset.Dataset):\n",
    "    __Xs = None\n",
    "    __ys = None\n",
    "    \n",
    "    def __init__(self, dir_path1, dir_path2, transform=None):\n",
    "        self.transform = transform\n",
    "        self.__Xs, self.__ys = load_data(dir_path1, dir_path2)\n",
    "        \n",
    "    def __getitem__(self, index):\n",
    "        img = self.__Xs[index]\n",
    "        img = cv2.cvtColor(img, cv2.COLOR_BGR2RGB)\n",
    "        if self.transform is not None:\n",
    "            img = self.transform(img)\n",
    "            \n",
    "        # Convert image and label to torch tensors\n",
    "        img = torch.from_numpy(np.asarray(img))\n",
    "        label = torch.from_numpy(np.asarray(self.__ys[index]))\n",
    "        \n",
    "        return img, label\n",
    "    \n",
    "    def __len__(self):\n",
    "        return self.__Xs.shape[0]"
   ]
  },
  {
   "cell_type": "code",
   "execution_count": 8,
   "metadata": {},
   "outputs": [],
   "source": [
    "train_dir_path1 = 'hw2 data/data1/train/'\n",
    "train_dir_path2 = 'hw2 data/data2/train/'\n",
    "batch_size = 1\n",
    "\n",
    "transform = transforms.Compose(\n",
    "    [transforms.ToTensor(),\n",
    "     transforms.Normalize((0.5, 0.5, 0.5), (0.5, 0.5, 0.5))])\n",
    "\n",
    "trainset = CIFAR10(train_dir_path1, train_dir_path2, transform=transform)\n",
    "train_loader = torch.utils.data.DataLoader(trainset, batch_size=batch_size, shuffle=True, num_workers=1)"
   ]
  },
  {
   "cell_type": "code",
   "execution_count": 9,
   "metadata": {},
   "outputs": [],
   "source": [
    "device = torch.device('cuda:0' if torch.cuda.is_available() else 'cpu')"
   ]
  },
  {
   "cell_type": "code",
   "execution_count": 10,
   "metadata": {},
   "outputs": [
    {
     "name": "stdout",
     "output_type": "stream",
     "text": [
      "<class 'torch.device'>\n"
     ]
    }
   ],
   "source": [
    "print(type(device))\n",
    "torch.cuda.empty_cache()"
   ]
  },
  {
   "cell_type": "code",
   "execution_count": 11,
   "metadata": {},
   "outputs": [
    {
     "name": "stdout",
     "output_type": "stream",
     "text": [
      "Running on GPU\n"
     ]
    }
   ],
   "source": [
    "class Net(nn.Module):\n",
    "    def __init__(self):\n",
    "        super(Net, self).__init__()\n",
    "        self.conv1 = nn.Conv2d(3, 6, 5)\n",
    "        self.pool = nn.MaxPool2d(2, 2)\n",
    "        self.conv2 = nn.Conv2d(6, 16, 5)\n",
    "        self.fc1 = nn.Linear(16 * 5 * 5, 120)\n",
    "        self.fc2 = nn.Linear(120, 84)\n",
    "        self.fc3 = nn.Linear(84, 10)\n",
    "\n",
    "    def forward(self, x):\n",
    "        x = self.pool(F.relu(self.conv1(x)))\n",
    "        x = self.pool(F.relu(self.conv2(x)))\n",
    "        x = x.view(-1, 16 * 5 * 5)\n",
    "        x = F.relu(self.fc1(x))\n",
    "        x = F.relu(self.fc2(x))\n",
    "        x = self.fc3(x)\n",
    "        return x\n",
    "\n",
    "\n",
    "net = Net()\n",
    "if torch.cuda.is_available():\n",
    "    print(\"Running on GPU\")\n",
    "    net = net.cuda()"
   ]
  },
  {
   "cell_type": "code",
   "execution_count": 16,
   "metadata": {},
   "outputs": [
    {
     "ename": "TypeError",
     "evalue": "__init__() got an unexpected keyword argument 'momentum'",
     "output_type": "error",
     "traceback": [
      "\u001b[0;31m---------------------------------------------------------------------------\u001b[0m",
      "\u001b[0;31mTypeError\u001b[0m                                 Traceback (most recent call last)",
      "\u001b[0;32m<ipython-input-16-d689a1b0299a>\u001b[0m in \u001b[0;36m<module>\u001b[0;34m\u001b[0m\n\u001b[1;32m      1\u001b[0m \u001b[0mcriterion\u001b[0m \u001b[0;34m=\u001b[0m \u001b[0mnn\u001b[0m\u001b[0;34m.\u001b[0m\u001b[0mCrossEntropyLoss\u001b[0m\u001b[0;34m(\u001b[0m\u001b[0;34m)\u001b[0m\u001b[0;34m\u001b[0m\u001b[0m\n\u001b[0;32m----> 2\u001b[0;31m \u001b[0moptimizer\u001b[0m \u001b[0;34m=\u001b[0m \u001b[0moptim\u001b[0m\u001b[0;34m.\u001b[0m\u001b[0mAdam\u001b[0m\u001b[0;34m(\u001b[0m\u001b[0mnet\u001b[0m\u001b[0;34m.\u001b[0m\u001b[0mparameters\u001b[0m\u001b[0;34m(\u001b[0m\u001b[0;34m)\u001b[0m\u001b[0;34m,\u001b[0m \u001b[0mlr\u001b[0m\u001b[0;34m=\u001b[0m\u001b[0;36m0.001\u001b[0m\u001b[0;34m,\u001b[0m \u001b[0mmomentum\u001b[0m\u001b[0;34m=\u001b[0m\u001b[0;36m0.9\u001b[0m\u001b[0;34m)\u001b[0m\u001b[0;34m\u001b[0m\u001b[0m\n\u001b[0m",
      "\u001b[0;31mTypeError\u001b[0m: __init__() got an unexpected keyword argument 'momentum'"
     ]
    }
   ],
   "source": [
    "criterion = nn.CrossEntropyLoss()\n",
    "optimizer = optim.Adam(net.parameters(), lr=0.001)#, momentum=0.9)"
   ]
  },
  {
   "cell_type": "code",
   "execution_count": 13,
   "metadata": {},
   "outputs": [
    {
     "name": "stdout",
     "output_type": "stream",
     "text": [
      "epoch 1/20 \t loss: 5659.451\n",
      "epoch 2/20 \t loss: 3442.630\n",
      "epoch 3/20 \t loss: 3071.680\n",
      "epoch 4/20 \t loss: 2872.232\n",
      "epoch 5/20 \t loss: 2566.382\n",
      "epoch 6/20 \t loss: 2351.315\n",
      "epoch 7/20 \t loss: 2088.998\n",
      "epoch 8/20 \t loss: 1960.209\n",
      "epoch 9/20 \t loss: 1963.369\n",
      "epoch 10/20 \t loss: 1662.314\n",
      "epoch 11/20 \t loss: 1568.017\n",
      "epoch 12/20 \t loss: 1552.689\n",
      "epoch 13/20 \t loss: 1403.170\n",
      "epoch 14/20 \t loss: 1087.892\n",
      "epoch 15/20 \t loss: 1356.202\n",
      "epoch 16/20 \t loss: 1153.148\n",
      "epoch 17/20 \t loss: 1160.371\n",
      "epoch 18/20 \t loss: 1359.139\n",
      "epoch 19/20 \t loss: 1010.095\n",
      "epoch 20/20 \t loss: 1045.013\n",
      "Finished Training\n"
     ]
    }
   ],
   "source": [
    "epochs = 20\n",
    "\n",
    "for epoch in range(epochs):  # loop over the dataset multiple times\n",
    "\n",
    "    running_loss = 0.0\n",
    "    for i, data in enumerate(train_loader, 0):\n",
    "        # get the inputs\n",
    "        inputs, labels = data\n",
    "        if torch.cuda.is_available():\n",
    "            inputs = inputs.cuda()\n",
    "            labels = labels.cuda()\n",
    "\n",
    "        # zero the parameter gradients\n",
    "        optimizer.zero_grad()\n",
    "\n",
    "        # forward + backward + optimize\n",
    "        outputs = net(inputs).to(device)\n",
    "        loss = criterion(outputs, labels)\n",
    "        loss.backward()\n",
    "        optimizer.step()\n",
    "\n",
    "        # print statistics\n",
    "        running_loss += loss.item()\n",
    "    print('epoch %d/%d \\t loss: %.3f' %\n",
    "              (epoch + 1, epochs, running_loss))\n",
    "    running_loss = 0.0\n",
    "\n",
    "print('Finished Training')"
   ]
  },
  {
   "cell_type": "code",
   "execution_count": 14,
   "metadata": {},
   "outputs": [],
   "source": [
    "test_dir_path1 = 'hw2 data/data1/test/'\n",
    "test_dir_path2 = 'hw2 data/data2/test/'\n",
    "batch_size = 1\n",
    "\n",
    "testset = CIFAR10(test_dir_path1, test_dir_path2, transform=transform)\n",
    "test_loader = torch.utils.data.DataLoader(testset, batch_size=batch_size, shuffle=True, num_workers=1)"
   ]
  },
  {
   "cell_type": "code",
   "execution_count": 15,
   "metadata": {},
   "outputs": [
    {
     "name": "stdout",
     "output_type": "stream",
     "text": [
      "Accuracy of the network on the 272 test images: 74 %\n"
     ]
    }
   ],
   "source": [
    "correct = 0\n",
    "total = 0\n",
    "\n",
    "with torch.no_grad():\n",
    "    for data in test_loader:\n",
    "        images, labels = data\n",
    "        if torch.cuda.is_available():\n",
    "            images = images.cuda()\n",
    "            labels = labels.cuda()\n",
    "        outputs = net(images)\n",
    "        _, predicted = torch.max(outputs.data, 1)\n",
    "        total += labels.size(0)\n",
    "        correct += (predicted == labels).sum().item()\n",
    "\n",
    "print('Accuracy of the network on the %d test images: %d %%' % (total,\n",
    "    100 * correct / total))"
   ]
  },
  {
   "cell_type": "code",
   "execution_count": null,
   "metadata": {},
   "outputs": [],
   "source": []
  }
 ],
 "metadata": {
  "kernelspec": {
   "display_name": "Python [default]",
   "language": "python",
   "name": "python3"
  },
  "language_info": {
   "codemirror_mode": {
    "name": "ipython",
    "version": 3
   },
   "file_extension": ".py",
   "mimetype": "text/x-python",
   "name": "python",
   "nbconvert_exporter": "python",
   "pygments_lexer": "ipython3",
   "version": "3.6.6"
  }
 },
 "nbformat": 4,
 "nbformat_minor": 2
}
