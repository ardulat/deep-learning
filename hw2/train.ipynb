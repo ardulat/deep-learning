{
 "cells": [
  {
   "cell_type": "code",
   "execution_count": 1,
   "metadata": {},
   "outputs": [],
   "source": [
    "# % pylab inline\n",
    "from pylab import *"
   ]
  },
  {
   "cell_type": "code",
   "execution_count": 2,
   "metadata": {},
   "outputs": [],
   "source": [
    "# imports\n",
    "import os\n",
    "import cv2\n",
    "import torch\n",
    "import torchvision\n",
    "import torchvision.transforms as transforms\n",
    "import torch.nn as nn\n",
    "import torch.nn.functional as F\n",
    "import torch.optim as optim"
   ]
  },
  {
   "cell_type": "code",
   "execution_count": 3,
   "metadata": {},
   "outputs": [],
   "source": [
    "def get_paths(dir_path):\n",
    "    \"\"\"Receives dir_path, returns 2-dimensional array of certain sizes\"\"\"\n",
    "    class_paths = []\n",
    "    image_paths = []\n",
    "    \n",
    "    for i, class_name in enumerate(os.listdir(dir_path)):\n",
    "        class_image_paths = []\n",
    "        for j, image_name in enumerate(os.listdir(dir_path+class_name)):\n",
    "            class_image_paths.append(dir_path+class_name+'/'+image_name)\n",
    "        image_paths.append(class_image_paths)\n",
    "    \n",
    "    return image_paths"
   ]
  },
  {
   "cell_type": "code",
   "execution_count": 4,
   "metadata": {},
   "outputs": [],
   "source": [
    "def read_images(image_paths):\n",
    "    X = []\n",
    "    y = []\n",
    "    \n",
    "    class_num = 0\n",
    "        \n",
    "    for each_class in image_paths:\n",
    "        for each_image_path in each_class:\n",
    "            image = cv2.imread(each_image_path)\n",
    "            X.append(image)\n",
    "            y.append(class_num)\n",
    "        class_num += 1\n",
    "    \n",
    "    X = np.array(X)\n",
    "    y = np.array(y)\n",
    "    \n",
    "    return X, y"
   ]
  },
  {
   "cell_type": "code",
   "execution_count": 5,
   "metadata": {},
   "outputs": [],
   "source": [
    "def load_data(dir_path1, dir_path2):\n",
    "    image_paths1 = get_paths(dir_path1)\n",
    "    image_paths2 = get_paths(dir_path2)\n",
    "    \n",
    "    X1, y1 = read_images(image_paths1)\n",
    "    X2, y2 = read_images(image_paths2)\n",
    "    \n",
    "    X2_resized = np.zeros((X2.shape[0], 32, 32, X2.shape[3]), dtype=np.uint8)\n",
    "    \n",
    "    for i in range(X2.shape[0]):\n",
    "        X2_resized[i,:,:,0] = cv2.resize(X2[i,:,:,0], (32,32))\n",
    "        X2_resized[i,:,:,1] = cv2.resize(X2[i,:,:,1], (32,32))\n",
    "        X2_resized[i,:,:,2] = cv2.resize(X2[i,:,:,2], (32,32))\n",
    "    \n",
    "    X = np.append(X1, X2_resized, axis=0)\n",
    "    y = np.append(y1, y2, axis=0)\n",
    "    \n",
    "    return X, y"
   ]
  },
  {
   "cell_type": "code",
   "execution_count": 6,
   "metadata": {},
   "outputs": [],
   "source": [
    "train_dir_path1 = 'hw2 data/data1/train/'\n",
    "train_dir_path2 = 'hw2 data/data2/train/'\n",
    "X_train, y_train= load_data(train_dir_path1, train_dir_path2)"
   ]
  },
  {
   "cell_type": "code",
   "execution_count": 26,
   "metadata": {},
   "outputs": [],
   "source": [
    "class CIFAR10(torch.utils.data.dataset.Dataset):\n",
    "    __Xs = None\n",
    "    __ys = None\n",
    "    \n",
    "    def __init__(self, dir_path1, dir_path2, transform=None):\n",
    "        self.transform = transform\n",
    "        self.__Xs, self.__ys = load_data(dir_path1, dir_path2)\n",
    "        \n",
    "    def __getitem__(self, index):\n",
    "        img = self.__Xs[index]\n",
    "        img = cv2.cvtColor(img, cv2.COLOR_BGR2RGB)\n",
    "        if self.transform is not None:\n",
    "            img = self.transform(img)\n",
    "            \n",
    "        # Convert image and label to torch tensors\n",
    "        img = torch.from_numpy(np.asarray(img))\n",
    "        label = torch.from_numpy(np.asarray(self.__ys[index]))\n",
    "        \n",
    "        return img, label\n",
    "    \n",
    "    def __len__(self):\n",
    "        return self.__Xs.shape[0]"
   ]
  },
  {
   "cell_type": "code",
   "execution_count": 27,
   "metadata": {},
   "outputs": [],
   "source": [
    "train_dir_path1 = 'hw2 data/data1/train/'\n",
    "train_dir_path2 = 'hw2 data/data2/train/'\n",
    "batch_size = 4\n",
    "\n",
    "transform = transforms.Compose(\n",
    "    [transforms.ToTensor(),\n",
    "     transforms.Normalize((0.5, 0.5, 0.5), (0.5, 0.5, 0.5))])\n",
    "\n",
    "trainset = CIFAR10(train_dir_path1, train_dir_path2, transform=transform)\n",
    "train_loader = torch.utils.data.DataLoader(trainset, batch_size=batch_size, shuffle=True, num_workers=1)"
   ]
  },
  {
   "cell_type": "code",
   "execution_count": 41,
   "metadata": {},
   "outputs": [],
   "source": [
    "device = torch.device('cuda:0' if torch.cuda.is_available() else 'cpu')"
   ]
  },
  {
   "cell_type": "code",
   "execution_count": null,
   "metadata": {},
   "outputs": [],
   "source": [
    "class Net(nn.Module):\n",
    "    def __init__(self):\n",
    "        super(Net, self).__init__()\n",
    "        self.conv1 = nn.Conv2d(3, 6, 5)\n",
    "        self.pool = nn.MaxPool2d(2, 2)\n",
    "        self.conv2 = nn.Conv2d(6, 16, 5)\n",
    "        self.fc1 = nn.Linear(16 * 5 * 5, 120)\n",
    "        self.fc2 = nn.Linear(120, 84)\n",
    "        self.fc3 = nn.Linear(84, 10)\n",
    "\n",
    "    def forward(self, x):\n",
    "        x = self.pool(F.relu(self.conv1(x)))\n",
    "        x = self.pool(F.relu(self.conv2(x)))\n",
    "        x = x.view(-1, 16 * 5 * 5)\n",
    "        x = F.relu(self.fc1(x))\n",
    "        x = F.relu(self.fc2(x))\n",
    "        x = self.fc3(x)\n",
    "        return x\n",
    "\n",
    "\n",
    "net = Net()\n",
    "net.to(device)"
   ]
  },
  {
   "cell_type": "code",
   "execution_count": 29,
   "metadata": {},
   "outputs": [],
   "source": [
    "criterion = nn.CrossEntropyLoss()\n",
    "optimizer = optim.SGD(net.parameters(), lr=0.001, momentum=0.9)"
   ]
  },
  {
   "cell_type": "code",
   "execution_count": 39,
   "metadata": {},
   "outputs": [
    {
     "name": "stdout",
     "output_type": "stream",
     "text": [
      "epoch 1/10 \t 1135\t loss: 99.217\n",
      "epoch 2/10 \t 1135\t loss: 56.974\n",
      "epoch 3/10 \t 1135\t loss: 46.262\n",
      "epoch 4/10 \t 1135\t loss: 156.433\n",
      "epoch 5/10 \t 1135\t loss: 123.655\n",
      "epoch 6/10 \t 1135\t loss: 53.959\n",
      "epoch 7/10 \t 1135\t loss: 90.093\n",
      "epoch 8/10 \t 1135\t loss: 79.582\n",
      "epoch 9/10 \t 1135\t loss: 35.665\n",
      "epoch 10/10 \t 1135\t loss: 12.019\n",
      "Finished Training\n"
     ]
    }
   ],
   "source": [
    "epochs = 10\n",
    "\n",
    "for epoch in range(epochs):  # loop over the dataset multiple times\n",
    "\n",
    "    running_loss = 0.0\n",
    "    for i, data in enumerate(train_loader, 0):\n",
    "        # get the inputs\n",
    "        inputs, labels = data\n",
    "\n",
    "        # zero the parameter gradients\n",
    "        optimizer.zero_grad()\n",
    "\n",
    "        # forward + backward + optimize\n",
    "        outputs = net(inputs)\n",
    "        loss = criterion(outputs, labels)\n",
    "        loss.backward()\n",
    "        optimizer.step()\n",
    "\n",
    "        # print statistics\n",
    "        running_loss += loss.item()\n",
    "    print('epoch %d/%d \\t%5d\\t loss: %.3f' %\n",
    "              (epoch + 1, epochs, i + 1, running_loss))\n",
    "    running_loss = 0.0\n",
    "\n",
    "print('Finished Training')"
   ]
  },
  {
   "cell_type": "code",
   "execution_count": null,
   "metadata": {},
   "outputs": [],
   "source": []
  }
 ],
 "metadata": {
  "kernelspec": {
   "display_name": "Python [default]",
   "language": "python",
   "name": "python3"
  },
  "language_info": {
   "codemirror_mode": {
    "name": "ipython",
    "version": 3
   },
   "file_extension": ".py",
   "mimetype": "text/x-python",
   "name": "python",
   "nbconvert_exporter": "python",
   "pygments_lexer": "ipython3",
   "version": "3.6.6"
  }
 },
 "nbformat": 4,
 "nbformat_minor": 2
}
